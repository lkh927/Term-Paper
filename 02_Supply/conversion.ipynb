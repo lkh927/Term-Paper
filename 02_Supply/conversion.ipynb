{
 "cells": [
  {
   "cell_type": "code",
   "execution_count": 1,
   "metadata": {},
   "outputs": [],
   "source": [
    "import scipy as sp \n",
    "data = sp.io.loadmat('CheckPi.mat')\n",
    "import pandas as pd"
   ]
  },
  {
   "cell_type": "code",
   "execution_count": 2,
   "metadata": {},
   "outputs": [
    {
     "name": "stdout",
     "output_type": "stream",
     "text": [
      "Bigq: <class 'numpy.ndarray'>\n",
      "Could not convert Bigq: Must pass 2-d input. shape=(18, 4, 12, 12, 15)\n",
      "BigQ: <class 'numpy.ndarray'>\n",
      "Could not convert BigQ: Must pass 2-d input. shape=(18, 3, 12, 12, 15)\n",
      "BigP: <class 'numpy.ndarray'>\n",
      "Could not convert BigP: Must pass 2-d input. shape=(18, 2, 12, 12, 15)\n",
      "BigPi: <class 'numpy.ndarray'>\n",
      "Could not convert BigPi: Must pass 2-d input. shape=(18, 3, 12, 12, 15)\n",
      "Yd: <class 'numpy.ndarray'>\n",
      "alpha0: <class 'numpy.ndarray'>\n",
      "alpha1: <class 'numpy.ndarray'>\n",
      "alpha2: <class 'numpy.ndarray'>\n",
      "alpha3: <class 'numpy.ndarray'>\n",
      "Xe: <class 'numpy.ndarray'>\n",
      "M: <class 'numpy.ndarray'>\n",
      "P: <class 'numpy.ndarray'>\n",
      "X: <class 'numpy.ndarray'>\n",
      "State: <class 'numpy.ndarray'>\n",
      "State2: <class 'numpy.ndarray'>\n",
      "Exit: <class 'numpy.ndarray'>\n",
      "Adopt: <class 'numpy.ndarray'>\n",
      "Q: <class 'numpy.ndarray'>\n",
      "dPdQ: <class 'numpy.ndarray'>\n",
      "ePQ: <class 'numpy.ndarray'>\n",
      "ABCDEFGH: <class 'numpy.ndarray'>\n",
      "q: <class 'numpy.ndarray'>\n",
      "MC: <class 'numpy.ndarray'>\n",
      "t: <class 'numpy.ndarray'>\n",
      "X_o: <class 'numpy.ndarray'>\n",
      "X_n: <class 'numpy.ndarray'>\n",
      "Xe_o: <class 'numpy.ndarray'>\n",
      "Xe_n: <class 'numpy.ndarray'>\n",
      "YearDummy: <class 'numpy.ndarray'>\n",
      "MC_o: <class 'numpy.ndarray'>\n",
      "MC_n: <class 'numpy.ndarray'>\n",
      "pi_o: <class 'numpy.ndarray'>\n",
      "pi_b: <class 'numpy.ndarray'>\n",
      "pi_n: <class 'numpy.ndarray'>\n",
      "Pi: <class 'numpy.ndarray'>\n",
      "Could not convert Pi: Must pass 2-d input. shape=(18, 3, 12, 12, 15)\n",
      "Mkt: <class 'numpy.ndarray'>\n",
      "q0: <class 'numpy.ndarray'>\n",
      "No: <class 'numpy.ndarray'>\n",
      "Nb: <class 'numpy.ndarray'>\n",
      "Nn: <class 'numpy.ndarray'>\n",
      "type: <class 'numpy.ndarray'>\n",
      "check: <class 'numpy.ndarray'>\n",
      "count: <class 'numpy.ndarray'>\n",
      "q_prev: <class 'numpy.ndarray'>\n",
      "pi_prev: <class 'numpy.ndarray'>\n",
      "pi: <class 'numpy.ndarray'>\n"
     ]
    }
   ],
   "source": [
    "for key in data:\n",
    "    if not key.startswith('__'):\n",
    "        print(f\"{key}: {type(data[key])}\")\n",
    "        try:\n",
    "            pd.DataFrame(data[key]).to_csv(f\"{key}.csv\", index=False)\n",
    "        except Exception as e:\n",
    "            print(f\"Could not convert {key}: {e}\")\n"
   ]
  },
  {
   "cell_type": "code",
   "execution_count": null,
   "metadata": {},
   "outputs": [],
   "source": []
  }
 ],
 "metadata": {
  "kernelspec": {
   "display_name": "base",
   "language": "python",
   "name": "python3"
  },
  "language_info": {
   "codemirror_mode": {
    "name": "ipython",
    "version": 3
   },
   "file_extension": ".py",
   "mimetype": "text/x-python",
   "name": "python",
   "nbconvert_exporter": "python",
   "pygments_lexer": "ipython3",
   "version": "3.11.7"
  }
 },
 "nbformat": 4,
 "nbformat_minor": 2
}
